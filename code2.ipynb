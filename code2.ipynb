{
 "cells": [
  {
   "cell_type": "code",
   "execution_count": 1,
   "metadata": {
    "_cell_guid": "b1076dfc-b9ad-4769-8c92-a6c4dae69d19",
    "_uuid": "8f2839f25d086af736a60e9eeb907d3b93b6e0e5",
    "execution": {
     "iopub.execute_input": "2020-12-18T02:36:29.076489Z",
     "iopub.status.busy": "2020-12-18T02:36:29.075745Z",
     "iopub.status.idle": "2020-12-18T02:36:30.240007Z",
     "shell.execute_reply": "2020-12-18T02:36:30.240522Z"
    },
    "papermill": {
     "duration": 1.21403,
     "end_time": "2020-12-18T02:36:30.240689",
     "exception": false,
     "start_time": "2020-12-18T02:36:29.026659",
     "status": "completed"
    },
    "tags": []
   },
   "outputs": [],
   "source": [
    "import numpy as np\n",
    "import pandas as pd\n",
    "import matplotlib.pyplot as plt\n",
    "import seaborn as sns\n",
    "import random as r\n",
    "from datetime import datetime\n",
    "from scipy import stats"
   ]
  },
  {
   "cell_type": "code",
   "execution_count": 2,
   "metadata": {
    "_cell_guid": "79c7e3d0-c299-4dcb-8224-4455121ee9b0",
    "_uuid": "d629ff2d2480ee46fbb7e2d37f6b5fab8052498a",
    "execution": {
     "iopub.execute_input": "2020-12-18T02:36:30.324282Z",
     "iopub.status.busy": "2020-12-18T02:36:30.323639Z",
     "iopub.status.idle": "2020-12-18T02:36:30.563664Z",
     "shell.execute_reply": "2020-12-18T02:36:30.564315Z"
    },
    "papermill": {
     "duration": 0.288174,
     "end_time": "2020-12-18T02:36:30.564460",
     "exception": false,
     "start_time": "2020-12-18T02:36:30.276286",
     "status": "completed"
    },
    "tags": []
   },
   "outputs": [
    {
     "name": "stderr",
     "output_type": "stream",
     "text": [
      "/opt/conda/lib/python3.7/site-packages/IPython/core/interactiveshell.py:3063: DtypeWarning: Columns (6,22,25,29) have mixed types.Specify dtype option on import or set low_memory=False.\n",
      "  interactivity=interactivity, compiler=compiler, result=result)\n"
     ]
    }
   ],
   "source": [
    "data = pd.read_csv('../input/update/president_polls_general_election.csv')"
   ]
  },
  {
   "cell_type": "code",
   "execution_count": 3,
   "metadata": {
    "execution": {
     "iopub.execute_input": "2020-12-18T02:36:30.654118Z",
     "iopub.status.busy": "2020-12-18T02:36:30.653389Z",
     "iopub.status.idle": "2020-12-18T02:36:30.659364Z",
     "shell.execute_reply": "2020-12-18T02:36:30.658827Z"
    },
    "papermill": {
     "duration": 0.054456,
     "end_time": "2020-12-18T02:36:30.659488",
     "exception": false,
     "start_time": "2020-12-18T02:36:30.605032",
     "status": "completed"
    },
    "tags": []
   },
   "outputs": [
    {
     "data": {
      "text/plain": [
       "Index(['question_id', 'poll_id', 'cycle', 'state', 'pollster_id', 'pollster',\n",
       "       'sponsor_ids', 'sponsors', 'display_name', 'pollster_rating_id',\n",
       "       'pollster_rating_name', 'fte_grade', 'sample_size', 'population',\n",
       "       'population_full', 'methodology', 'office_type', 'seat_number',\n",
       "       'seat_name', 'start_date', 'end_date', 'election_date',\n",
       "       'sponsor_candidate', 'internal', 'partisan', 'tracking',\n",
       "       'nationwide_batch', 'ranked_choice_reallocated', 'created_at', 'notes',\n",
       "       'url', 'stage', 'race_id', 'answer', 'candidate_id', 'candidate_name',\n",
       "       'candidate_party', 'pct'],\n",
       "      dtype='object')"
      ]
     },
     "execution_count": 3,
     "metadata": {},
     "output_type": "execute_result"
    }
   ],
   "source": [
    "data.columns"
   ]
  },
  {
   "cell_type": "markdown",
   "metadata": {
    "papermill": {
     "duration": 0.036313,
     "end_time": "2020-12-18T02:36:30.733613",
     "exception": false,
     "start_time": "2020-12-18T02:36:30.697300",
     "status": "completed"
    },
    "tags": []
   },
   "source": [
    "We keep only the columns that matter to our purposes here"
   ]
  },
  {
   "cell_type": "code",
   "execution_count": 4,
   "metadata": {
    "execution": {
     "iopub.execute_input": "2020-12-18T02:36:30.814498Z",
     "iopub.status.busy": "2020-12-18T02:36:30.813788Z",
     "iopub.status.idle": "2020-12-18T02:36:30.818516Z",
     "shell.execute_reply": "2020-12-18T02:36:30.819073Z"
    },
    "papermill": {
     "duration": 0.047876,
     "end_time": "2020-12-18T02:36:30.819216",
     "exception": false,
     "start_time": "2020-12-18T02:36:30.771340",
     "status": "completed"
    },
    "tags": []
   },
   "outputs": [],
   "source": [
    "col_interest = ['state', 'pollster','fte_grade', 'sample_size','methodology','start_date', 'end_date',\n",
    "       'answer', 'pct']"
   ]
  },
  {
   "cell_type": "code",
   "execution_count": 5,
   "metadata": {
    "execution": {
     "iopub.execute_input": "2020-12-18T02:36:30.912737Z",
     "iopub.status.busy": "2020-12-18T02:36:30.911547Z",
     "iopub.status.idle": "2020-12-18T02:36:30.921210Z",
     "shell.execute_reply": "2020-12-18T02:36:30.920455Z"
    },
    "papermill": {
     "duration": 0.064676,
     "end_time": "2020-12-18T02:36:30.921341",
     "exception": false,
     "start_time": "2020-12-18T02:36:30.856665",
     "status": "completed"
    },
    "tags": []
   },
   "outputs": [],
   "source": [
    "data_interest = data[col_interest]"
   ]
  },
  {
   "cell_type": "code",
   "execution_count": 6,
   "metadata": {
    "execution": {
     "iopub.execute_input": "2020-12-18T02:36:31.051826Z",
     "iopub.status.busy": "2020-12-18T02:36:31.042331Z",
     "iopub.status.idle": "2020-12-18T02:36:31.069004Z",
     "shell.execute_reply": "2020-12-18T02:36:31.068246Z"
    },
    "papermill": {
     "duration": 0.089808,
     "end_time": "2020-12-18T02:36:31.069135",
     "exception": false,
     "start_time": "2020-12-18T02:36:30.979327",
     "status": "completed"
    },
    "tags": []
   },
   "outputs": [
    {
     "data": {
      "text/html": [
       "<div>\n",
       "<style scoped>\n",
       "    .dataframe tbody tr th:only-of-type {\n",
       "        vertical-align: middle;\n",
       "    }\n",
       "\n",
       "    .dataframe tbody tr th {\n",
       "        vertical-align: top;\n",
       "    }\n",
       "\n",
       "    .dataframe thead th {\n",
       "        text-align: right;\n",
       "    }\n",
       "</style>\n",
       "<table border=\"1\" class=\"dataframe\">\n",
       "  <thead>\n",
       "    <tr style=\"text-align: right;\">\n",
       "      <th></th>\n",
       "      <th>state</th>\n",
       "      <th>pollster</th>\n",
       "      <th>fte_grade</th>\n",
       "      <th>sample_size</th>\n",
       "      <th>methodology</th>\n",
       "      <th>start_date</th>\n",
       "      <th>end_date</th>\n",
       "      <th>answer</th>\n",
       "      <th>pct</th>\n",
       "    </tr>\n",
       "  </thead>\n",
       "  <tbody>\n",
       "    <tr>\n",
       "      <th>0</th>\n",
       "      <td>Iowa</td>\n",
       "      <td>Public Policy Polling</td>\n",
       "      <td>B</td>\n",
       "      <td>871.0</td>\n",
       "      <td>IVR/Text</td>\n",
       "      <td>11/1/20</td>\n",
       "      <td>11/2/20</td>\n",
       "      <td>Biden</td>\n",
       "      <td>49.0</td>\n",
       "    </tr>\n",
       "    <tr>\n",
       "      <th>1</th>\n",
       "      <td>Iowa</td>\n",
       "      <td>Public Policy Polling</td>\n",
       "      <td>B</td>\n",
       "      <td>871.0</td>\n",
       "      <td>IVR/Text</td>\n",
       "      <td>11/1/20</td>\n",
       "      <td>11/2/20</td>\n",
       "      <td>Trump</td>\n",
       "      <td>48.0</td>\n",
       "    </tr>\n",
       "    <tr>\n",
       "      <th>2</th>\n",
       "      <td>Pennsylvania</td>\n",
       "      <td>Susquehanna Polling &amp; Research Inc.</td>\n",
       "      <td>C</td>\n",
       "      <td>499.0</td>\n",
       "      <td>Live Phone</td>\n",
       "      <td>11/1/20</td>\n",
       "      <td>11/2/20</td>\n",
       "      <td>Biden</td>\n",
       "      <td>48.4</td>\n",
       "    </tr>\n",
       "    <tr>\n",
       "      <th>3</th>\n",
       "      <td>Pennsylvania</td>\n",
       "      <td>Susquehanna Polling &amp; Research Inc.</td>\n",
       "      <td>C</td>\n",
       "      <td>499.0</td>\n",
       "      <td>Live Phone</td>\n",
       "      <td>11/1/20</td>\n",
       "      <td>11/2/20</td>\n",
       "      <td>Trump</td>\n",
       "      <td>49.2</td>\n",
       "    </tr>\n",
       "    <tr>\n",
       "      <th>4</th>\n",
       "      <td>Pennsylvania</td>\n",
       "      <td>Susquehanna Polling &amp; Research Inc.</td>\n",
       "      <td>C</td>\n",
       "      <td>499.0</td>\n",
       "      <td>Live Phone</td>\n",
       "      <td>11/1/20</td>\n",
       "      <td>11/2/20</td>\n",
       "      <td>Jorgensen</td>\n",
       "      <td>1.4</td>\n",
       "    </tr>\n",
       "  </tbody>\n",
       "</table>\n",
       "</div>"
      ],
      "text/plain": [
       "          state                             pollster fte_grade  sample_size  \\\n",
       "0          Iowa                Public Policy Polling         B        871.0   \n",
       "1          Iowa                Public Policy Polling         B        871.0   \n",
       "2  Pennsylvania  Susquehanna Polling & Research Inc.         C        499.0   \n",
       "3  Pennsylvania  Susquehanna Polling & Research Inc.         C        499.0   \n",
       "4  Pennsylvania  Susquehanna Polling & Research Inc.         C        499.0   \n",
       "\n",
       "  methodology start_date end_date     answer   pct  \n",
       "0    IVR/Text    11/1/20  11/2/20      Biden  49.0  \n",
       "1    IVR/Text    11/1/20  11/2/20      Trump  48.0  \n",
       "2  Live Phone    11/1/20  11/2/20      Biden  48.4  \n",
       "3  Live Phone    11/1/20  11/2/20      Trump  49.2  \n",
       "4  Live Phone    11/1/20  11/2/20  Jorgensen   1.4  "
      ]
     },
     "execution_count": 6,
     "metadata": {},
     "output_type": "execute_result"
    }
   ],
   "source": [
    "data_interest.head()"
   ]
  },
  {
   "cell_type": "markdown",
   "metadata": {
    "papermill": {
     "duration": 0.057194,
     "end_time": "2020-12-18T02:36:31.184869",
     "exception": false,
     "start_time": "2020-12-18T02:36:31.127675",
     "status": "completed"
    },
    "tags": []
   },
   "source": [
    "Let's see which states districts we have, and check is anything is missing"
   ]
  },
  {
   "cell_type": "code",
   "execution_count": 7,
   "metadata": {
    "execution": {
     "iopub.execute_input": "2020-12-18T02:36:31.309278Z",
     "iopub.status.busy": "2020-12-18T02:36:31.308296Z",
     "iopub.status.idle": "2020-12-18T02:36:31.315789Z",
     "shell.execute_reply": "2020-12-18T02:36:31.314660Z"
    },
    "papermill": {
     "duration": 0.071779,
     "end_time": "2020-12-18T02:36:31.315939",
     "exception": false,
     "start_time": "2020-12-18T02:36:31.244160",
     "status": "completed"
    },
    "tags": []
   },
   "outputs": [
    {
     "data": {
      "text/plain": [
       "56"
      ]
     },
     "execution_count": 7,
     "metadata": {},
     "output_type": "execute_result"
    }
   ],
   "source": [
    "len(data_interest['state'].unique())"
   ]
  },
  {
   "cell_type": "code",
   "execution_count": 8,
   "metadata": {
    "execution": {
     "iopub.execute_input": "2020-12-18T02:36:31.407379Z",
     "iopub.status.busy": "2020-12-18T02:36:31.406646Z",
     "iopub.status.idle": "2020-12-18T02:36:31.411229Z",
     "shell.execute_reply": "2020-12-18T02:36:31.411740Z"
    },
    "papermill": {
     "duration": 0.056901,
     "end_time": "2020-12-18T02:36:31.411881",
     "exception": false,
     "start_time": "2020-12-18T02:36:31.354980",
     "status": "completed"
    },
    "tags": []
   },
   "outputs": [
    {
     "data": {
      "text/plain": [
       "array(['Iowa', 'Pennsylvania', 'Florida', nan, 'Nebraska CD-2', 'Montana',\n",
       "       'Maine', 'Maine CD-2', 'Maine CD-1', 'Arizona', 'North Carolina',\n",
       "       'Texas', 'Georgia', 'Illinois', 'Michigan', 'Minnesota',\n",
       "       'New Jersey', 'New York', 'Ohio', 'Wisconsin', 'Colorado',\n",
       "       'California', 'Virginia', 'Alabama', 'Nevada', 'Kansas',\n",
       "       'South Carolina', 'Mississippi', 'Indiana', 'Connecticut',\n",
       "       'Kentucky', 'Louisiana', 'Maryland', 'Missouri', 'Oregon',\n",
       "       'Tennessee', 'Washington', 'Wyoming', 'West Virginia', 'Vermont',\n",
       "       'Utah', 'South Dakota', 'Rhode Island', 'Oklahoma', 'New Mexico',\n",
       "       'New Hampshire', 'Nebraska', 'North Dakota', 'Massachusetts',\n",
       "       'Idaho', 'Hawaii', 'Delaware', 'District of Columbia', 'Arkansas',\n",
       "       'Alaska', 'Nebraska CD-1'], dtype=object)"
      ]
     },
     "execution_count": 8,
     "metadata": {},
     "output_type": "execute_result"
    }
   ],
   "source": [
    "data_interest['state'].unique()"
   ]
  },
  {
   "cell_type": "markdown",
   "metadata": {
    "papermill": {
     "duration": 0.038738,
     "end_time": "2020-12-18T02:36:31.489403",
     "exception": false,
     "start_time": "2020-12-18T02:36:31.450665",
     "status": "completed"
    },
    "tags": []
   },
   "source": [
    "51 + a nan (missing) + the districts of Maine and Nebraska"
   ]
  },
  {
   "cell_type": "markdown",
   "metadata": {
    "papermill": {
     "duration": 0.027326,
     "end_time": "2020-12-18T02:36:31.552635",
     "exception": false,
     "start_time": "2020-12-18T02:36:31.525309",
     "status": "completed"
    },
    "tags": []
   },
   "source": [
    "Let's take a look at the names of those who ran for the U.S. presidency"
   ]
  },
  {
   "cell_type": "code",
   "execution_count": 9,
   "metadata": {
    "execution": {
     "iopub.execute_input": "2020-12-18T02:36:31.613621Z",
     "iopub.status.busy": "2020-12-18T02:36:31.612975Z",
     "iopub.status.idle": "2020-12-18T02:36:31.618408Z",
     "shell.execute_reply": "2020-12-18T02:36:31.618876Z"
    },
    "papermill": {
     "duration": 0.038912,
     "end_time": "2020-12-18T02:36:31.619044",
     "exception": false,
     "start_time": "2020-12-18T02:36:31.580132",
     "status": "completed"
    },
    "tags": []
   },
   "outputs": [
    {
     "data": {
      "text/plain": [
       "array(['Biden', 'Trump', 'Jorgensen', 'Hawkins', 'West', 'Blankenship',\n",
       "       'De La Fuente', 'Simmons', 'Pierce', 'Pence', 'Harris', 'La Riva',\n",
       "       'Kennedy', 'Hornberger', 'Cuomo', 'Clinton', 'Obama', 'Amash',\n",
       "       'Sanders', 'Warren', 'Bloomberg', 'Buttigieg', 'Klobuchar',\n",
       "       'Gabbard', 'Steyer', 'Yang', 'Booker', 'Castro', \"O'Rourke\",\n",
       "       'Haley', 'Bullock', 'Delaney', 'Gillibrand', 'Williamson',\n",
       "       'Messam', 'Bennet', 'de Blasio', 'Winfrey', 'Inslee',\n",
       "       'Hickenlooper', 'Gravel', 'Moulton', 'Rapinoe', 'Swalwell', 'Ryan',\n",
       "       'Schultz', 'Brown', 'Pelosi', 'Schumer', 'Ocasio-Cortez'],\n",
       "      dtype=object)"
      ]
     },
     "execution_count": 9,
     "metadata": {},
     "output_type": "execute_result"
    }
   ],
   "source": [
    "data_interest['answer'].unique()"
   ]
  },
  {
   "cell_type": "markdown",
   "metadata": {
    "papermill": {
     "duration": 0.038945,
     "end_time": "2020-12-18T02:36:31.697290",
     "exception": false,
     "start_time": "2020-12-18T02:36:31.658345",
     "status": "completed"
    },
    "tags": []
   },
   "source": [
    "So many names. We will just focus on Biden and Trump"
   ]
  },
  {
   "cell_type": "code",
   "execution_count": 10,
   "metadata": {
    "execution": {
     "iopub.execute_input": "2020-12-18T02:36:31.817427Z",
     "iopub.status.busy": "2020-12-18T02:36:31.816570Z",
     "iopub.status.idle": "2020-12-18T02:36:31.832815Z",
     "shell.execute_reply": "2020-12-18T02:36:31.832290Z"
    },
    "papermill": {
     "duration": 0.096733,
     "end_time": "2020-12-18T02:36:31.832934",
     "exception": false,
     "start_time": "2020-12-18T02:36:31.736201",
     "status": "completed"
    },
    "tags": []
   },
   "outputs": [
    {
     "name": "stdout",
     "output_type": "stream",
     "text": [
      "<class 'pandas.core.frame.DataFrame'>\n",
      "RangeIndex: 16438 entries, 0 to 16437\n",
      "Data columns (total 9 columns):\n",
      " #   Column       Non-Null Count  Dtype  \n",
      "---  ------       --------------  -----  \n",
      " 0   state        11385 non-null  object \n",
      " 1   pollster     16438 non-null  object \n",
      " 2   fte_grade    15253 non-null  object \n",
      " 3   sample_size  16436 non-null  float64\n",
      " 4   methodology  16138 non-null  object \n",
      " 5   start_date   16438 non-null  object \n",
      " 6   end_date     16438 non-null  object \n",
      " 7   answer       16438 non-null  object \n",
      " 8   pct          16438 non-null  float64\n",
      "dtypes: float64(2), object(7)\n",
      "memory usage: 1.1+ MB\n"
     ]
    }
   ],
   "source": [
    "data_interest.info()"
   ]
  },
  {
   "cell_type": "markdown",
   "metadata": {
    "papermill": {
     "duration": 0.041578,
     "end_time": "2020-12-18T02:36:31.914752",
     "exception": false,
     "start_time": "2020-12-18T02:36:31.873174",
     "status": "completed"
    },
    "tags": []
   },
   "source": [
    "We want to make dates into date format, not just an object string"
   ]
  },
  {
   "cell_type": "code",
   "execution_count": 11,
   "metadata": {
    "execution": {
     "iopub.execute_input": "2020-12-18T02:36:32.003655Z",
     "iopub.status.busy": "2020-12-18T02:36:32.002797Z",
     "iopub.status.idle": "2020-12-18T02:36:32.140912Z",
     "shell.execute_reply": "2020-12-18T02:36:32.141654Z"
    },
    "papermill": {
     "duration": 0.187598,
     "end_time": "2020-12-18T02:36:32.141821",
     "exception": false,
     "start_time": "2020-12-18T02:36:31.954223",
     "status": "completed"
    },
    "tags": []
   },
   "outputs": [
    {
     "name": "stderr",
     "output_type": "stream",
     "text": [
      "/opt/conda/lib/python3.7/site-packages/ipykernel_launcher.py:1: SettingWithCopyWarning: \n",
      "A value is trying to be set on a copy of a slice from a DataFrame.\n",
      "Try using .loc[row_indexer,col_indexer] = value instead\n",
      "\n",
      "See the caveats in the documentation: https://pandas.pydata.org/pandas-docs/stable/user_guide/indexing.html#returning-a-view-versus-a-copy\n",
      "  \"\"\"Entry point for launching an IPython kernel.\n",
      "/opt/conda/lib/python3.7/site-packages/ipykernel_launcher.py:2: SettingWithCopyWarning: \n",
      "A value is trying to be set on a copy of a slice from a DataFrame.\n",
      "Try using .loc[row_indexer,col_indexer] = value instead\n",
      "\n",
      "See the caveats in the documentation: https://pandas.pydata.org/pandas-docs/stable/user_guide/indexing.html#returning-a-view-versus-a-copy\n",
      "  \n"
     ]
    }
   ],
   "source": [
    "data_interest['end_date'] = pd.to_datetime(data_interest['end_date'])\n",
    "data_interest['start_date'] = pd.to_datetime(data_interest['start_date'])\n",
    "#these are the dates of interest in my analysis"
   ]
  },
  {
   "cell_type": "code",
   "execution_count": 12,
   "metadata": {
    "execution": {
     "iopub.execute_input": "2020-12-18T02:36:32.227060Z",
     "iopub.status.busy": "2020-12-18T02:36:32.226420Z",
     "iopub.status.idle": "2020-12-18T02:36:32.236671Z",
     "shell.execute_reply": "2020-12-18T02:36:32.236133Z"
    },
    "papermill": {
     "duration": 0.054412,
     "end_time": "2020-12-18T02:36:32.236769",
     "exception": false,
     "start_time": "2020-12-18T02:36:32.182357",
     "status": "completed"
    },
    "tags": []
   },
   "outputs": [
    {
     "data": {
      "text/plain": [
       "0       1 days\n",
       "1       1 days\n",
       "2       1 days\n",
       "3       1 days\n",
       "4       1 days\n",
       "         ...  \n",
       "16433   1 days\n",
       "16434   1 days\n",
       "16435   1 days\n",
       "16436   1 days\n",
       "16437   1 days\n",
       "Length: 16438, dtype: timedelta64[ns]"
      ]
     },
     "execution_count": 12,
     "metadata": {},
     "output_type": "execute_result"
    }
   ],
   "source": [
    "data_interest['end_date'] - data_interest['start_date']"
   ]
  },
  {
   "cell_type": "markdown",
   "metadata": {
    "papermill": {
     "duration": 0.045559,
     "end_time": "2020-12-18T02:36:32.322355",
     "exception": false,
     "start_time": "2020-12-18T02:36:32.276796",
     "status": "completed"
    },
    "tags": []
   },
   "source": [
    "Let's assume they are all for 1 day, so only one date of them matters, let's keep the end date"
   ]
  },
  {
   "cell_type": "code",
   "execution_count": 13,
   "metadata": {
    "execution": {
     "iopub.execute_input": "2020-12-18T02:36:32.431799Z",
     "iopub.status.busy": "2020-12-18T02:36:32.431004Z",
     "iopub.status.idle": "2020-12-18T02:36:32.432825Z",
     "shell.execute_reply": "2020-12-18T02:36:32.433327Z"
    },
    "papermill": {
     "duration": 0.05114,
     "end_time": "2020-12-18T02:36:32.433445",
     "exception": false,
     "start_time": "2020-12-18T02:36:32.382305",
     "status": "completed"
    },
    "tags": []
   },
   "outputs": [],
   "source": [
    "data_interest = data_interest.drop(columns = ['start_date'])"
   ]
  },
  {
   "cell_type": "code",
   "execution_count": 14,
   "metadata": {
    "execution": {
     "iopub.execute_input": "2020-12-18T02:36:32.556748Z",
     "iopub.status.busy": "2020-12-18T02:36:32.555630Z",
     "iopub.status.idle": "2020-12-18T02:36:32.562649Z",
     "shell.execute_reply": "2020-12-18T02:36:32.563396Z"
    },
    "papermill": {
     "duration": 0.075701,
     "end_time": "2020-12-18T02:36:32.563547",
     "exception": false,
     "start_time": "2020-12-18T02:36:32.487846",
     "status": "completed"
    },
    "tags": []
   },
   "outputs": [
    {
     "data": {
      "text/plain": [
       "Timestamp('2018-11-13 00:00:00')"
      ]
     },
     "execution_count": 14,
     "metadata": {},
     "output_type": "execute_result"
    }
   ],
   "source": [
    "data_interest['end_date'].min()"
   ]
  },
  {
   "cell_type": "markdown",
   "metadata": {
    "papermill": {
     "duration": 0.061816,
     "end_time": "2020-12-18T02:36:32.687877",
     "exception": false,
     "start_time": "2020-12-18T02:36:32.626061",
     "status": "completed"
    },
    "tags": []
   },
   "source": [
    "As early as Nov 2018! We will consider the polls from mid July until first week of October. Not too early neither too close to the election date."
   ]
  },
  {
   "cell_type": "code",
   "execution_count": 15,
   "metadata": {
    "execution": {
     "iopub.execute_input": "2020-12-18T02:36:32.821703Z",
     "iopub.status.busy": "2020-12-18T02:36:32.820878Z",
     "iopub.status.idle": "2020-12-18T02:36:32.829712Z",
     "shell.execute_reply": "2020-12-18T02:36:32.829008Z"
    },
    "papermill": {
     "duration": 0.079286,
     "end_time": "2020-12-18T02:36:32.829850",
     "exception": false,
     "start_time": "2020-12-18T02:36:32.750564",
     "status": "completed"
    },
    "tags": []
   },
   "outputs": [],
   "source": [
    "period = pd.date_range(start='7/15/2020', end='10/7/2020')\n",
    "data_period = data_interest[data_interest['end_date'].isin(period)]"
   ]
  },
  {
   "cell_type": "markdown",
   "metadata": {
    "papermill": {
     "duration": 0.074868,
     "end_time": "2020-12-18T02:36:32.967328",
     "exception": false,
     "start_time": "2020-12-18T02:36:32.892460",
     "status": "completed"
    },
    "tags": []
   },
   "source": [
    "Let's make sure that period didn't exclude some states"
   ]
  },
  {
   "cell_type": "code",
   "execution_count": 16,
   "metadata": {
    "execution": {
     "iopub.execute_input": "2020-12-18T02:36:33.122390Z",
     "iopub.status.busy": "2020-12-18T02:36:33.121614Z",
     "iopub.status.idle": "2020-12-18T02:36:33.126591Z",
     "shell.execute_reply": "2020-12-18T02:36:33.127373Z"
    },
    "papermill": {
     "duration": 0.084843,
     "end_time": "2020-12-18T02:36:33.127512",
     "exception": false,
     "start_time": "2020-12-18T02:36:33.042669",
     "status": "completed"
    },
    "tags": []
   },
   "outputs": [
    {
     "data": {
      "text/plain": [
       "56"
      ]
     },
     "execution_count": 16,
     "metadata": {},
     "output_type": "execute_result"
    }
   ],
   "source": [
    "len(data_period['state'].unique())"
   ]
  },
  {
   "cell_type": "markdown",
   "metadata": {
    "papermill": {
     "duration": 0.061615,
     "end_time": "2020-12-18T02:36:33.251676",
     "exception": false,
     "start_time": "2020-12-18T02:36:33.190061",
     "status": "completed"
    },
    "tags": []
   },
   "source": [
    "Drop rows with empty values, particularly will get rid of state nans"
   ]
  },
  {
   "cell_type": "code",
   "execution_count": 17,
   "metadata": {
    "execution": {
     "iopub.execute_input": "2020-12-18T02:36:33.383784Z",
     "iopub.status.busy": "2020-12-18T02:36:33.382658Z",
     "iopub.status.idle": "2020-12-18T02:36:33.418540Z",
     "shell.execute_reply": "2020-12-18T02:36:33.419073Z"
    },
    "papermill": {
     "duration": 0.103927,
     "end_time": "2020-12-18T02:36:33.419225",
     "exception": false,
     "start_time": "2020-12-18T02:36:33.315298",
     "status": "completed"
    },
    "tags": []
   },
   "outputs": [],
   "source": [
    "data_period = data_period.dropna()"
   ]
  },
  {
   "cell_type": "markdown",
   "metadata": {
    "papermill": {
     "duration": 0.041986,
     "end_time": "2020-12-18T02:36:33.504077",
     "exception": false,
     "start_time": "2020-12-18T02:36:33.462091",
     "status": "completed"
    },
    "tags": []
   },
   "source": [
    "Run this if want to ignore congressional districts"
   ]
  },
  {
   "cell_type": "markdown",
   "metadata": {
    "papermill": {
     "duration": 0.046317,
     "end_time": "2020-12-18T02:36:33.594397",
     "exception": false,
     "start_time": "2020-12-18T02:36:33.548080",
     "status": "completed"
    },
    "tags": []
   },
   "source": [
    "data_period = data_period.replace('Nebraska CD-1', 'Nebraska')\n",
    "data_period = data_period.replace('Nebraska CD-2', 'Nebraska')\n",
    "data_period = data_period.replace('Maine CD-1', 'Maine')\n",
    "data_period = data_period.replace('Maine CD-2', 'Maine')"
   ]
  },
  {
   "cell_type": "code",
   "execution_count": 18,
   "metadata": {
    "execution": {
     "iopub.execute_input": "2020-12-18T02:36:33.687157Z",
     "iopub.status.busy": "2020-12-18T02:36:33.686317Z",
     "iopub.status.idle": "2020-12-18T02:36:33.689411Z",
     "shell.execute_reply": "2020-12-18T02:36:33.690095Z"
    },
    "papermill": {
     "duration": 0.053159,
     "end_time": "2020-12-18T02:36:33.690252",
     "exception": false,
     "start_time": "2020-12-18T02:36:33.637093",
     "status": "completed"
    },
    "tags": []
   },
   "outputs": [
    {
     "data": {
      "text/plain": [
       "55"
      ]
     },
     "execution_count": 18,
     "metadata": {},
     "output_type": "execute_result"
    }
   ],
   "source": [
    "len(data_period['state'].unique())"
   ]
  },
  {
   "cell_type": "code",
   "execution_count": 19,
   "metadata": {
    "execution": {
     "iopub.execute_input": "2020-12-18T02:36:33.781409Z",
     "iopub.status.busy": "2020-12-18T02:36:33.780760Z",
     "iopub.status.idle": "2020-12-18T02:36:33.787896Z",
     "shell.execute_reply": "2020-12-18T02:36:33.787381Z"
    },
    "papermill": {
     "duration": 0.053357,
     "end_time": "2020-12-18T02:36:33.788067",
     "exception": false,
     "start_time": "2020-12-18T02:36:33.734710",
     "status": "completed"
    },
    "tags": []
   },
   "outputs": [
    {
     "data": {
      "text/plain": [
       "array(['B', 'B-', 'A-', 'B/C', 'C+', 'C-', 'A/B', 'A+', 'A', 'B+', 'C/D',\n",
       "       'D-', 'C'], dtype=object)"
      ]
     },
     "execution_count": 19,
     "metadata": {},
     "output_type": "execute_result"
    }
   ],
   "source": [
    "# let's look at pollster grades in common\n",
    "\n",
    "data_period['fte_grade'].unique()"
   ]
  },
  {
   "cell_type": "markdown",
   "metadata": {
    "papermill": {
     "duration": 0.043925,
     "end_time": "2020-12-18T02:36:33.876214",
     "exception": false,
     "start_time": "2020-12-18T02:36:33.832289",
     "status": "completed"
    },
    "tags": []
   },
   "source": [
    "We will keep only the best rated which allow all states to show. As we see below, A+ alone isn't enough"
   ]
  },
  {
   "cell_type": "code",
   "execution_count": 20,
   "metadata": {
    "execution": {
     "iopub.execute_input": "2020-12-18T02:36:33.970659Z",
     "iopub.status.busy": "2020-12-18T02:36:33.969932Z",
     "iopub.status.idle": "2020-12-18T02:36:33.973920Z",
     "shell.execute_reply": "2020-12-18T02:36:33.974464Z"
    },
    "papermill": {
     "duration": 0.054532,
     "end_time": "2020-12-18T02:36:33.974598",
     "exception": false,
     "start_time": "2020-12-18T02:36:33.920066",
     "status": "completed"
    },
    "tags": []
   },
   "outputs": [
    {
     "data": {
      "text/plain": [
       "17"
      ]
     },
     "execution_count": 20,
     "metadata": {},
     "output_type": "execute_result"
    }
   ],
   "source": [
    "len(data_period[data_period['fte_grade'] == 'A+'].state.unique())"
   ]
  },
  {
   "cell_type": "markdown",
   "metadata": {
    "papermill": {
     "duration": 0.043509,
     "end_time": "2020-12-18T02:36:34.062045",
     "exception": false,
     "start_time": "2020-12-18T02:36:34.018536",
     "status": "completed"
    },
    "tags": []
   },
   "source": [
    "In fact after trying, we need all those ratings present. Some states were not collected by better than D-. Here is the result if D- alone is missing"
   ]
  },
  {
   "cell_type": "code",
   "execution_count": 21,
   "metadata": {
    "execution": {
     "iopub.execute_input": "2020-12-18T02:36:34.153892Z",
     "iopub.status.busy": "2020-12-18T02:36:34.153115Z",
     "iopub.status.idle": "2020-12-18T02:36:34.161553Z",
     "shell.execute_reply": "2020-12-18T02:36:34.160922Z"
    },
    "papermill": {
     "duration": 0.055549,
     "end_time": "2020-12-18T02:36:34.161653",
     "exception": false,
     "start_time": "2020-12-18T02:36:34.106104",
     "status": "completed"
    },
    "tags": []
   },
   "outputs": [
    {
     "data": {
      "text/plain": [
       "47"
      ]
     },
     "execution_count": 21,
     "metadata": {},
     "output_type": "execute_result"
    }
   ],
   "source": [
    "len(data_period[data_period['fte_grade'].isin(['A+','A','A-','A/B','B+','B','B-','B/C',\n",
    "                           'C+','C','C-','C/D'])].state.unique())"
   ]
  },
  {
   "cell_type": "code",
   "execution_count": 22,
   "metadata": {
    "execution": {
     "iopub.execute_input": "2020-12-18T02:36:34.257605Z",
     "iopub.status.busy": "2020-12-18T02:36:34.256761Z",
     "iopub.status.idle": "2020-12-18T02:36:34.263966Z",
     "shell.execute_reply": "2020-12-18T02:36:34.263229Z"
    },
    "papermill": {
     "duration": 0.05812,
     "end_time": "2020-12-18T02:36:34.264096",
     "exception": false,
     "start_time": "2020-12-18T02:36:34.205976",
     "status": "completed"
    },
    "tags": []
   },
   "outputs": [
    {
     "data": {
      "text/plain": [
       "55"
      ]
     },
     "execution_count": 22,
     "metadata": {},
     "output_type": "execute_result"
    }
   ],
   "source": [
    "len(data_period[data_period['fte_grade'].isin(['A+','A','A-','A/B','B+','B','B-','B/C',\n",
    "                           'C+','C','C-','C/D','D-'])].state.unique())"
   ]
  },
  {
   "cell_type": "markdown",
   "metadata": {
    "papermill": {
     "duration": 0.06878,
     "end_time": "2020-12-18T02:36:34.402275",
     "exception": false,
     "start_time": "2020-12-18T02:36:34.333495",
     "status": "completed"
    },
    "tags": []
   },
   "source": [
    "My idea is, when investigating a state, I use the best avaliable quality pollster for it"
   ]
  },
  {
   "cell_type": "markdown",
   "metadata": {
    "papermill": {
     "duration": 0.067061,
     "end_time": "2020-12-18T02:36:34.537620",
     "exception": false,
     "start_time": "2020-12-18T02:36:34.470559",
     "status": "completed"
    },
    "tags": []
   },
   "source": [
    "In what follows, we build a function which when given a state and condadate, it returns a percentage averaging over the best pollsters over the time period."
   ]
  },
  {
   "cell_type": "code",
   "execution_count": 23,
   "metadata": {
    "execution": {
     "iopub.execute_input": "2020-12-18T02:36:34.682028Z",
     "iopub.status.busy": "2020-12-18T02:36:34.681065Z",
     "iopub.status.idle": "2020-12-18T02:36:34.685364Z",
     "shell.execute_reply": "2020-12-18T02:36:34.684501Z"
    },
    "papermill": {
     "duration": 0.08069,
     "end_time": "2020-12-18T02:36:34.685511",
     "exception": false,
     "start_time": "2020-12-18T02:36:34.604821",
     "status": "completed"
    },
    "tags": []
   },
   "outputs": [],
   "source": [
    "def poll_best(state, date, candidate): \n",
    "#returns a table of data at best pollster grade at the date input for the candidate input\n",
    "    B = data_period[data_period['answer'] == candidate].drop(columns=['answer'])\n",
    "    for rating in ['A+', 'A', 'A-','A/B', 'B+', 'B', 'B-', 'B/C', 'C+', 'C', 'C-', 'C/D',\n",
    "        'D-']: # we ordered them\n",
    "        if state in B[B['fte_grade'] == rating].state.unique():\n",
    "            B_rating = B[B['fte_grade'] == rating]\n",
    "            B_rating_state = B_rating[B_rating['state'] == state]\n",
    "            return B_rating_state[B_rating_state['end_date'] == date]\n",
    "            break\n",
    "    \n",
    "def prob(state, candidate):\n",
    "    Sample_size = []\n",
    "    Pct = []\n",
    "    for date in period:\n",
    "        subtable = poll_best(state, date, candidate)\n",
    "        Sample_size = np.append(Sample_size,subtable['sample_size'])\n",
    "        Pct = np.append(Pct, subtable['pct'])\n",
    "    return np.sum(Sample_size), np.sum(np.multiply(Sample_size,Pct))/np.sum(Sample_size)"
   ]
  },
  {
   "cell_type": "markdown",
   "metadata": {
    "papermill": {
     "duration": 0.067033,
     "end_time": "2020-12-18T02:36:34.821707",
     "exception": false,
     "start_time": "2020-12-18T02:36:34.754674",
     "status": "completed"
    },
    "tags": []
   },
   "source": [
    "Test Example"
   ]
  },
  {
   "cell_type": "code",
   "execution_count": 24,
   "metadata": {
    "execution": {
     "iopub.execute_input": "2020-12-18T02:36:34.969883Z",
     "iopub.status.busy": "2020-12-18T02:36:34.964629Z",
     "iopub.status.idle": "2020-12-18T02:36:35.474124Z",
     "shell.execute_reply": "2020-12-18T02:36:35.473385Z"
    },
    "papermill": {
     "duration": 0.585086,
     "end_time": "2020-12-18T02:36:35.474263",
     "exception": false,
     "start_time": "2020-12-18T02:36:34.889177",
     "status": "completed"
    },
    "tags": []
   },
   "outputs": [
    {
     "data": {
      "text/plain": [
       "(5185.0, 47.955641272902604)"
      ]
     },
     "execution_count": 24,
     "metadata": {},
     "output_type": "execute_result"
    }
   ],
   "source": [
    "prob('Florida','Biden')"
   ]
  },
  {
   "cell_type": "markdown",
   "metadata": {
    "papermill": {
     "duration": 0.067896,
     "end_time": "2020-12-18T02:36:35.610752",
     "exception": false,
     "start_time": "2020-12-18T02:36:35.542856",
     "status": "completed"
    },
    "tags": []
   },
   "source": [
    "To clarify how the value was obtained, take a look at the table below. Those are all the highest grade polls for Florida over the period of time. You can see how for the same pollster, same method, and at the same time,  we do sometimes have multiple values for the percentage and the sample size. Hence, we are taking average by weighting each percentage with the size of the corresponding same, i.e., $$\\frac{samplesize^T pct}{\\sum samplesize}$$"
   ]
  },
  {
   "cell_type": "code",
   "execution_count": 25,
   "metadata": {
    "execution": {
     "iopub.execute_input": "2020-12-18T02:36:35.756178Z",
     "iopub.status.busy": "2020-12-18T02:36:35.755382Z",
     "iopub.status.idle": "2020-12-18T02:36:36.204781Z",
     "shell.execute_reply": "2020-12-18T02:36:36.204135Z"
    },
    "papermill": {
     "duration": 0.526169,
     "end_time": "2020-12-18T02:36:36.204887",
     "exception": false,
     "start_time": "2020-12-18T02:36:35.678718",
     "status": "completed"
    },
    "tags": []
   },
   "outputs": [
    {
     "data": {
      "text/html": [
       "<div>\n",
       "<style scoped>\n",
       "    .dataframe tbody tr th:only-of-type {\n",
       "        vertical-align: middle;\n",
       "    }\n",
       "\n",
       "    .dataframe tbody tr th {\n",
       "        vertical-align: top;\n",
       "    }\n",
       "\n",
       "    .dataframe thead th {\n",
       "        text-align: right;\n",
       "    }\n",
       "</style>\n",
       "<table border=\"1\" class=\"dataframe\">\n",
       "  <thead>\n",
       "    <tr style=\"text-align: right;\">\n",
       "      <th></th>\n",
       "      <th>state</th>\n",
       "      <th>pollster</th>\n",
       "      <th>fte_grade</th>\n",
       "      <th>sample_size</th>\n",
       "      <th>methodology</th>\n",
       "      <th>end_date</th>\n",
       "      <th>pct</th>\n",
       "    </tr>\n",
       "  </thead>\n",
       "  <tbody>\n",
       "    <tr>\n",
       "      <th>8547</th>\n",
       "      <td>Florida</td>\n",
       "      <td>Marist College</td>\n",
       "      <td>A+</td>\n",
       "      <td>1047.0</td>\n",
       "      <td>Live Phone</td>\n",
       "      <td>2020-09-06</td>\n",
       "      <td>47.0</td>\n",
       "    </tr>\n",
       "    <tr>\n",
       "      <th>8549</th>\n",
       "      <td>Florida</td>\n",
       "      <td>Marist College</td>\n",
       "      <td>A+</td>\n",
       "      <td>766.0</td>\n",
       "      <td>Live Phone</td>\n",
       "      <td>2020-09-06</td>\n",
       "      <td>48.0</td>\n",
       "    </tr>\n",
       "  </tbody>\n",
       "</table>\n",
       "</div>"
      ],
      "text/plain": [
       "        state        pollster fte_grade  sample_size methodology   end_date  \\\n",
       "8547  Florida  Marist College        A+       1047.0  Live Phone 2020-09-06   \n",
       "8549  Florida  Marist College        A+        766.0  Live Phone 2020-09-06   \n",
       "\n",
       "       pct  \n",
       "8547  47.0  \n",
       "8549  48.0  "
      ]
     },
     "metadata": {},
     "output_type": "display_data"
    },
    {
     "data": {
      "text/html": [
       "<div>\n",
       "<style scoped>\n",
       "    .dataframe tbody tr th:only-of-type {\n",
       "        vertical-align: middle;\n",
       "    }\n",
       "\n",
       "    .dataframe tbody tr th {\n",
       "        vertical-align: top;\n",
       "    }\n",
       "\n",
       "    .dataframe thead th {\n",
       "        text-align: right;\n",
       "    }\n",
       "</style>\n",
       "<table border=\"1\" class=\"dataframe\">\n",
       "  <thead>\n",
       "    <tr style=\"text-align: right;\">\n",
       "      <th></th>\n",
       "      <th>state</th>\n",
       "      <th>pollster</th>\n",
       "      <th>fte_grade</th>\n",
       "      <th>sample_size</th>\n",
       "      <th>methodology</th>\n",
       "      <th>end_date</th>\n",
       "      <th>pct</th>\n",
       "    </tr>\n",
       "  </thead>\n",
       "  <tbody>\n",
       "    <tr>\n",
       "      <th>8218</th>\n",
       "      <td>Florida</td>\n",
       "      <td>Monmouth University</td>\n",
       "      <td>A+</td>\n",
       "      <td>428.0</td>\n",
       "      <td>Live Phone</td>\n",
       "      <td>2020-09-13</td>\n",
       "      <td>50.0</td>\n",
       "    </tr>\n",
       "    <tr>\n",
       "      <th>8222</th>\n",
       "      <td>Florida</td>\n",
       "      <td>Monmouth University</td>\n",
       "      <td>A+</td>\n",
       "      <td>428.0</td>\n",
       "      <td>Live Phone</td>\n",
       "      <td>2020-09-13</td>\n",
       "      <td>50.0</td>\n",
       "    </tr>\n",
       "    <tr>\n",
       "      <th>8224</th>\n",
       "      <td>Florida</td>\n",
       "      <td>Monmouth University</td>\n",
       "      <td>A+</td>\n",
       "      <td>428.0</td>\n",
       "      <td>Live Phone</td>\n",
       "      <td>2020-09-13</td>\n",
       "      <td>49.0</td>\n",
       "    </tr>\n",
       "  </tbody>\n",
       "</table>\n",
       "</div>"
      ],
      "text/plain": [
       "        state             pollster fte_grade  sample_size methodology  \\\n",
       "8218  Florida  Monmouth University        A+        428.0  Live Phone   \n",
       "8222  Florida  Monmouth University        A+        428.0  Live Phone   \n",
       "8224  Florida  Monmouth University        A+        428.0  Live Phone   \n",
       "\n",
       "       end_date   pct  \n",
       "8218 2020-09-13  50.0  \n",
       "8222 2020-09-13  50.0  \n",
       "8224 2020-09-13  49.0  "
      ]
     },
     "metadata": {},
     "output_type": "display_data"
    },
    {
     "data": {
      "text/html": [
       "<div>\n",
       "<style scoped>\n",
       "    .dataframe tbody tr th:only-of-type {\n",
       "        vertical-align: middle;\n",
       "    }\n",
       "\n",
       "    .dataframe tbody tr th {\n",
       "        vertical-align: top;\n",
       "    }\n",
       "\n",
       "    .dataframe thead th {\n",
       "        text-align: right;\n",
       "    }\n",
       "</style>\n",
       "<table border=\"1\" class=\"dataframe\">\n",
       "  <thead>\n",
       "    <tr style=\"text-align: right;\">\n",
       "      <th></th>\n",
       "      <th>state</th>\n",
       "      <th>pollster</th>\n",
       "      <th>fte_grade</th>\n",
       "      <th>sample_size</th>\n",
       "      <th>methodology</th>\n",
       "      <th>end_date</th>\n",
       "      <th>pct</th>\n",
       "    </tr>\n",
       "  </thead>\n",
       "  <tbody>\n",
       "    <tr>\n",
       "      <th>7877</th>\n",
       "      <td>Florida</td>\n",
       "      <td>ABC News/The Washington Post</td>\n",
       "      <td>A+</td>\n",
       "      <td>765.0</td>\n",
       "      <td>Live Phone</td>\n",
       "      <td>2020-09-20</td>\n",
       "      <td>48.0</td>\n",
       "    </tr>\n",
       "    <tr>\n",
       "      <th>7879</th>\n",
       "      <td>Florida</td>\n",
       "      <td>ABC News/The Washington Post</td>\n",
       "      <td>A+</td>\n",
       "      <td>613.0</td>\n",
       "      <td>Live Phone</td>\n",
       "      <td>2020-09-20</td>\n",
       "      <td>47.0</td>\n",
       "    </tr>\n",
       "  </tbody>\n",
       "</table>\n",
       "</div>"
      ],
      "text/plain": [
       "        state                      pollster fte_grade  sample_size  \\\n",
       "7877  Florida  ABC News/The Washington Post        A+        765.0   \n",
       "7879  Florida  ABC News/The Washington Post        A+        613.0   \n",
       "\n",
       "     methodology   end_date   pct  \n",
       "7877  Live Phone 2020-09-20  48.0  \n",
       "7879  Live Phone 2020-09-20  47.0  "
      ]
     },
     "metadata": {},
     "output_type": "display_data"
    },
    {
     "data": {
      "text/html": [
       "<div>\n",
       "<style scoped>\n",
       "    .dataframe tbody tr th:only-of-type {\n",
       "        vertical-align: middle;\n",
       "    }\n",
       "\n",
       "    .dataframe tbody tr th {\n",
       "        vertical-align: top;\n",
       "    }\n",
       "\n",
       "    .dataframe thead th {\n",
       "        text-align: right;\n",
       "    }\n",
       "</style>\n",
       "<table border=\"1\" class=\"dataframe\">\n",
       "  <thead>\n",
       "    <tr style=\"text-align: right;\">\n",
       "      <th></th>\n",
       "      <th>state</th>\n",
       "      <th>pollster</th>\n",
       "      <th>fte_grade</th>\n",
       "      <th>sample_size</th>\n",
       "      <th>methodology</th>\n",
       "      <th>end_date</th>\n",
       "      <th>pct</th>\n",
       "    </tr>\n",
       "  </thead>\n",
       "  <tbody>\n",
       "    <tr>\n",
       "      <th>6987</th>\n",
       "      <td>Florida</td>\n",
       "      <td>Siena College/The New York Times Upshot</td>\n",
       "      <td>A+</td>\n",
       "      <td>710.0</td>\n",
       "      <td>Live Phone</td>\n",
       "      <td>2020-10-01</td>\n",
       "      <td>47.0</td>\n",
       "    </tr>\n",
       "  </tbody>\n",
       "</table>\n",
       "</div>"
      ],
      "text/plain": [
       "        state                                 pollster fte_grade  sample_size  \\\n",
       "6987  Florida  Siena College/The New York Times Upshot        A+        710.0   \n",
       "\n",
       "     methodology   end_date   pct  \n",
       "6987  Live Phone 2020-10-01  47.0  "
      ]
     },
     "metadata": {},
     "output_type": "display_data"
    }
   ],
   "source": [
    "for date in period:\n",
    "    if len(poll_best('Florida', date,'Biden'))!=0:\n",
    "        display(poll_best('Florida', date,'Biden'))"
   ]
  },
  {
   "cell_type": "markdown",
   "metadata": {
    "papermill": {
     "duration": 0.047472,
     "end_time": "2020-12-18T02:36:36.300099",
     "exception": false,
     "start_time": "2020-12-18T02:36:36.252627",
     "status": "completed"
    },
    "tags": []
   },
   "source": [
    "Now we are able to creat a vector of probabilities for all states for every candiadate. We record only Biden vs Trump, and lump the rest as Other."
   ]
  },
  {
   "cell_type": "code",
   "execution_count": 26,
   "metadata": {
    "execution": {
     "iopub.execute_input": "2020-12-18T02:36:36.403267Z",
     "iopub.status.busy": "2020-12-18T02:36:36.402596Z",
     "iopub.status.idle": "2020-12-18T02:37:16.278863Z",
     "shell.execute_reply": "2020-12-18T02:37:16.280202Z"
    },
    "papermill": {
     "duration": 39.931771,
     "end_time": "2020-12-18T02:37:16.280516",
     "exception": false,
     "start_time": "2020-12-18T02:36:36.348745",
     "status": "completed"
    },
    "tags": []
   },
   "outputs": [
    {
     "name": "stdout",
     "output_type": "stream",
     "text": [
      "Georgia 45.9587734241908\n",
      "Florida 47.955641272902604\n",
      "Michigan 52.0\n",
      "Montana 42.0\n",
      "Hawaii 58.51655629139073\n",
      "Arizona 48.69341035515618\n",
      "Missouri 43.2\n",
      "Texas 43.0\n",
      "Louisiana 42.57142857142857\n",
      "Iowa 45.81866591928251\n",
      "Ohio 45.0\n",
      "Nevada 47.1764705882353\n",
      "Maine 55.0\n",
      "Maine CD-1 54.870000000000005\n",
      "Maine CD-2 47.0\n",
      "Minnesota 54.329896907216494\n",
      "Colorado 50.0\n",
      "West Virginia 39.0\n",
      "North Carolina 48.10445580715851\n",
      "Pennsylvania 51.51556548009983\n",
      "New Jersey 57.89\n",
      "Wisconsin 51.20160213618158\n",
      "Nebraska CD-2 48.0\n",
      "Utah 35.64405724953329\n",
      "Alaska 44.0\n",
      "New Hampshire 45.0\n",
      "New Mexico 54.0\n",
      "Maryland 61.4732872407291\n",
      "Kansas 41.0\n",
      "Wyoming 29.0463924963925\n",
      "Washington 62.0\n",
      "Vermont 55.73\n",
      "Virginia 51.5\n",
      "Tennessee 40.17987208598244\n",
      "South Dakota 37.209625121713735\n",
      "South Carolina 44.83499667332003\n",
      "Rhode Island 59.138214285714284\n",
      "Oregon 54.26417704011065\n",
      "Oklahoma 35.38656924147529\n",
      "New York 61.0\n",
      "Nebraska 44.09947553988541\n",
      "North Dakota 37.0\n",
      "Mississippi 41.5\n",
      "Massachusetts 69.44\n",
      "Kentucky 39.31548480463097\n",
      "Indiana 38.0\n",
      "Illinois 52.9\n",
      "Idaho 34.48\n",
      "Delaware 58.0\n",
      "District of Columbia 85.91697175141243\n",
      "Connecticut 61.27067124735729\n",
      "California 57.582230623818525\n",
      "Arkansas 34.963407340280924\n",
      "Alabama 39.97022332506204\n",
      "Nebraska CD-1 46.0\n"
     ]
    }
   ],
   "source": [
    "for state in data_period['state'].unique():\n",
    "    print(state, prob(state,'Biden')[1])"
   ]
  },
  {
   "cell_type": "markdown",
   "metadata": {
    "papermill": {
     "duration": 0.068906,
     "end_time": "2020-12-18T02:37:16.419047",
     "exception": false,
     "start_time": "2020-12-18T02:37:16.350141",
     "status": "completed"
    },
    "tags": []
   },
   "source": [
    "**Beauty!**"
   ]
  },
  {
   "cell_type": "code",
   "execution_count": 27,
   "metadata": {
    "execution": {
     "iopub.execute_input": "2020-12-18T02:37:16.567041Z",
     "iopub.status.busy": "2020-12-18T02:37:16.564331Z",
     "iopub.status.idle": "2020-12-18T02:39:16.366410Z",
     "shell.execute_reply": "2020-12-18T02:39:16.366931Z"
    },
    "papermill": {
     "duration": 119.879902,
     "end_time": "2020-12-18T02:39:16.367109",
     "exception": false,
     "start_time": "2020-12-18T02:37:16.487207",
     "status": "completed"
    },
    "tags": []
   },
   "outputs": [],
   "source": [
    "Biden_probs = [prob(state,'Biden')[1] for state in data_period['state'].unique()]\n",
    "Trump_probs = [prob(state,'Trump')[1] for state in data_period['state'].unique()]\n",
    "Samp_size = [prob(state,'Trump')[0] for state in data_period['state'].unique()]"
   ]
  },
  {
   "cell_type": "code",
   "execution_count": 28,
   "metadata": {
    "execution": {
     "iopub.execute_input": "2020-12-18T02:39:16.507755Z",
     "iopub.status.busy": "2020-12-18T02:39:16.507131Z",
     "iopub.status.idle": "2020-12-18T02:39:16.515526Z",
     "shell.execute_reply": "2020-12-18T02:39:16.514807Z"
    },
    "papermill": {
     "duration": 0.080808,
     "end_time": "2020-12-18T02:39:16.515660",
     "exception": false,
     "start_time": "2020-12-18T02:39:16.434852",
     "status": "completed"
    },
    "tags": []
   },
   "outputs": [],
   "source": [
    "Bp = pd.DataFrame(Biden_probs, index = None)\n",
    "Tp = pd.DataFrame(Trump_probs, index = None)\n",
    "Sz = pd.DataFrame(Samp_size, index = None)"
   ]
  },
  {
   "cell_type": "markdown",
   "metadata": {
    "papermill": {
     "duration": 0.100652,
     "end_time": "2020-12-18T02:39:16.718702",
     "exception": false,
     "start_time": "2020-12-18T02:39:16.618050",
     "status": "completed"
    },
    "tags": []
   },
   "source": [
    "Build a pandas data frame to capture the outcomes and save it as csv in case we want to use it in another notebook"
   ]
  },
  {
   "cell_type": "code",
   "execution_count": 29,
   "metadata": {
    "execution": {
     "iopub.execute_input": "2020-12-18T02:39:16.933576Z",
     "iopub.status.busy": "2020-12-18T02:39:16.932703Z",
     "iopub.status.idle": "2020-12-18T02:39:16.935870Z",
     "shell.execute_reply": "2020-12-18T02:39:16.936587Z"
    },
    "papermill": {
     "duration": 0.116428,
     "end_time": "2020-12-18T02:39:16.936755",
     "exception": false,
     "start_time": "2020-12-18T02:39:16.820327",
     "status": "completed"
    },
    "tags": []
   },
   "outputs": [],
   "source": [
    "data = [pd.DataFrame(data_period['state'].unique()), Sz, Bp, Tp]\n",
    "headers = ['state', 'sample_size', 'Biden', 'Trump' ]\n",
    "Table =  pd.concat(data , axis=1, keys=headers)"
   ]
  },
  {
   "cell_type": "code",
   "execution_count": 30,
   "metadata": {
    "execution": {
     "iopub.execute_input": "2020-12-18T02:39:17.157160Z",
     "iopub.status.busy": "2020-12-18T02:39:17.156316Z",
     "iopub.status.idle": "2020-12-18T02:39:17.161858Z",
     "shell.execute_reply": "2020-12-18T02:39:17.161074Z"
    },
    "papermill": {
     "duration": 0.123803,
     "end_time": "2020-12-18T02:39:17.162012",
     "exception": false,
     "start_time": "2020-12-18T02:39:17.038209",
     "status": "completed"
    },
    "tags": []
   },
   "outputs": [
    {
     "data": {
      "text/html": [
       "<div>\n",
       "<style scoped>\n",
       "    .dataframe tbody tr th:only-of-type {\n",
       "        vertical-align: middle;\n",
       "    }\n",
       "\n",
       "    .dataframe tbody tr th {\n",
       "        vertical-align: top;\n",
       "    }\n",
       "\n",
       "    .dataframe thead tr th {\n",
       "        text-align: left;\n",
       "    }\n",
       "</style>\n",
       "<table border=\"1\" class=\"dataframe\">\n",
       "  <thead>\n",
       "    <tr>\n",
       "      <th></th>\n",
       "      <th>state</th>\n",
       "      <th>sample_size</th>\n",
       "      <th>Biden</th>\n",
       "      <th>Trump</th>\n",
       "    </tr>\n",
       "    <tr>\n",
       "      <th></th>\n",
       "      <th>0</th>\n",
       "      <th>0</th>\n",
       "      <th>0</th>\n",
       "      <th>0</th>\n",
       "    </tr>\n",
       "  </thead>\n",
       "  <tbody>\n",
       "    <tr>\n",
       "      <th>0</th>\n",
       "      <td>Georgia</td>\n",
       "      <td>2935.0</td>\n",
       "      <td>45.958773</td>\n",
       "      <td>47.602385</td>\n",
       "    </tr>\n",
       "    <tr>\n",
       "      <th>1</th>\n",
       "      <td>Florida</td>\n",
       "      <td>5185.0</td>\n",
       "      <td>47.955641</td>\n",
       "      <td>46.725169</td>\n",
       "    </tr>\n",
       "    <tr>\n",
       "      <th>2</th>\n",
       "      <td>Michigan</td>\n",
       "      <td>1881.0</td>\n",
       "      <td>52.000000</td>\n",
       "      <td>43.424774</td>\n",
       "    </tr>\n",
       "    <tr>\n",
       "      <th>3</th>\n",
       "      <td>Montana</td>\n",
       "      <td>625.0</td>\n",
       "      <td>42.000000</td>\n",
       "      <td>49.000000</td>\n",
       "    </tr>\n",
       "    <tr>\n",
       "      <th>4</th>\n",
       "      <td>Hawaii</td>\n",
       "      <td>1963.0</td>\n",
       "      <td>58.516556</td>\n",
       "      <td>28.496689</td>\n",
       "    </tr>\n",
       "  </tbody>\n",
       "</table>\n",
       "</div>"
      ],
      "text/plain": [
       "      state sample_size      Biden      Trump\n",
       "          0           0          0          0\n",
       "0   Georgia      2935.0  45.958773  47.602385\n",
       "1   Florida      5185.0  47.955641  46.725169\n",
       "2  Michigan      1881.0  52.000000  43.424774\n",
       "3   Montana       625.0  42.000000  49.000000\n",
       "4    Hawaii      1963.0  58.516556  28.496689"
      ]
     },
     "execution_count": 30,
     "metadata": {},
     "output_type": "execute_result"
    }
   ],
   "source": [
    "Table.head()"
   ]
  },
  {
   "cell_type": "code",
   "execution_count": 31,
   "metadata": {
    "execution": {
     "iopub.execute_input": "2020-12-18T02:39:17.373579Z",
     "iopub.status.busy": "2020-12-18T02:39:17.372762Z",
     "iopub.status.idle": "2020-12-18T02:39:17.376586Z",
     "shell.execute_reply": "2020-12-18T02:39:17.375772Z"
    },
    "papermill": {
     "duration": 0.111453,
     "end_time": "2020-12-18T02:39:17.376710",
     "exception": false,
     "start_time": "2020-12-18T02:39:17.265257",
     "status": "completed"
    },
    "tags": []
   },
   "outputs": [
    {
     "data": {
      "text/plain": [
       "(55, 4)"
      ]
     },
     "execution_count": 31,
     "metadata": {},
     "output_type": "execute_result"
    }
   ],
   "source": [
    "np.shape(Table)"
   ]
  },
  {
   "cell_type": "markdown",
   "metadata": {
    "papermill": {
     "duration": 0.102272,
     "end_time": "2020-12-18T02:39:17.582348",
     "exception": false,
     "start_time": "2020-12-18T02:39:17.480076",
     "status": "completed"
    },
    "tags": []
   },
   "source": [
    "Table.to_csv('probs_wthSampleSize.csv', index = False)"
   ]
  },
  {
   "cell_type": "markdown",
   "metadata": {
    "papermill": {
     "duration": 0.106032,
     "end_time": "2020-12-18T02:39:17.807346",
     "exception": false,
     "start_time": "2020-12-18T02:39:17.701314",
     "status": "completed"
    },
    "tags": []
   },
   "source": [
    "Now we build a function that returns state-win probabilities for Biden using bootstrapping."
   ]
  },
  {
   "cell_type": "code",
   "execution_count": 32,
   "metadata": {
    "execution": {
     "iopub.execute_input": "2020-12-18T02:39:18.020305Z",
     "iopub.status.busy": "2020-12-18T02:39:18.019656Z",
     "iopub.status.idle": "2020-12-18T02:39:18.022635Z",
     "shell.execute_reply": "2020-12-18T02:39:18.022047Z"
    },
    "papermill": {
     "duration": 0.112241,
     "end_time": "2020-12-18T02:39:18.022737",
     "exception": false,
     "start_time": "2020-12-18T02:39:17.910496",
     "status": "completed"
    },
    "tags": []
   },
   "outputs": [],
   "source": [
    "def Return_prob_Biden(num_sim, sample_size, percs):\n",
    "    #num_sim is number of scenarios\n",
    "    #percs is the vector of probabilities 0: p_Biden 0, 1: p_Trump, 2:p_Other based on the percentages\n",
    "    #we obtained earlier\n",
    "    sim_polls = np.random.choice([0,1,2], (num_sim, sample_size),percs)\n",
    "    return np.mean(np.sum(sim_polls == np.zeros((num_sim, sample_size)),axis = 1)> \n",
    "                   np.sum(sim_polls == np.ones((num_sim, sample_size)),axis = 1))"
   ]
  },
  {
   "cell_type": "markdown",
   "metadata": {
    "papermill": {
     "duration": 0.067936,
     "end_time": "2020-12-18T02:39:18.158811",
     "exception": false,
     "start_time": "2020-12-18T02:39:18.090875",
     "status": "completed"
    },
    "tags": []
   },
   "source": [
    "Now let's use it to calculate the probability of a Biden win at each state"
   ]
  },
  {
   "cell_type": "code",
   "execution_count": 33,
   "metadata": {
    "execution": {
     "iopub.execute_input": "2020-12-18T02:39:18.299082Z",
     "iopub.status.busy": "2020-12-18T02:39:18.298358Z",
     "iopub.status.idle": "2020-12-18T02:40:24.034684Z",
     "shell.execute_reply": "2020-12-18T02:40:24.035218Z"
    },
    "papermill": {
     "duration": 65.808453,
     "end_time": "2020-12-18T02:40:24.035380",
     "exception": false,
     "start_time": "2020-12-18T02:39:18.226927",
     "status": "completed"
    },
    "tags": []
   },
   "outputs": [],
   "source": [
    "#builds a table that combines states and corresponding Biden win probability\n",
    "#predicted using our simulation function\n",
    "\n",
    "num_sim = 20000\n",
    "Biden_win_probs = []\n",
    "\n",
    "for i in range(55):\n",
    "    precs = [Biden_probs[i]/100, Trump_probs[i]/100, 1-(Biden_probs[i]+ Trump_probs[i])/100]\n",
    "    Biden_win_probs=np.append(Biden_win_probs,Return_prob_Biden(num_sim, int(Samp_size[i]), precs))"
   ]
  },
  {
   "cell_type": "code",
   "execution_count": 34,
   "metadata": {
    "execution": {
     "iopub.execute_input": "2020-12-18T02:40:24.244984Z",
     "iopub.status.busy": "2020-12-18T02:40:24.244087Z",
     "iopub.status.idle": "2020-12-18T02:40:24.249647Z",
     "shell.execute_reply": "2020-12-18T02:40:24.250475Z"
    },
    "papermill": {
     "duration": 0.114632,
     "end_time": "2020-12-18T02:40:24.250645",
     "exception": false,
     "start_time": "2020-12-18T02:40:24.136013",
     "status": "completed"
    },
    "tags": []
   },
   "outputs": [
    {
     "data": {
      "text/plain": [
       "array([0.49645, 0.4957 , 0.49345, 0.48795, 0.498  , 0.49565, 0.49555,\n",
       "       0.49485, 0.49635, 0.4936 , 0.49485, 0.48705, 0.491  , 0.4894 ,\n",
       "       0.4905 , 0.49325, 0.4894 , 0.4935 , 0.497  , 0.4979 , 0.48805,\n",
       "       0.49385, 0.4915 , 0.5007 , 0.4917 , 0.48115, 0.4951 , 0.49315,\n",
       "       0.49275, 0.4963 , 0.4923 , 0.48945, 0.4896 , 0.49555, 0.49685,\n",
       "       0.49825, 0.4915 , 0.4967 , 0.4957 , 0.48955, 0.48835, 0.49455,\n",
       "       0.4934 , 0.4911 , 0.49505, 0.4906 , 0.4929 , 0.488  , 0.48475,\n",
       "       0.50075, 0.4976 , 0.49365, 0.4977 , 0.4943 , 0.4842 ])"
      ]
     },
     "execution_count": 34,
     "metadata": {},
     "output_type": "execute_result"
    }
   ],
   "source": [
    "Biden_win_probs"
   ]
  },
  {
   "cell_type": "markdown",
   "metadata": {
    "papermill": {
     "duration": 0.072816,
     "end_time": "2020-12-18T02:40:24.399839",
     "exception": false,
     "start_time": "2020-12-18T02:40:24.327023",
     "status": "completed"
    },
    "tags": []
   },
   "source": [
    "Beauty"
   ]
  },
  {
   "cell_type": "markdown",
   "metadata": {
    "papermill": {
     "duration": 0.079144,
     "end_time": "2020-12-18T02:40:24.549515",
     "exception": false,
     "start_time": "2020-12-18T02:40:24.470371",
     "status": "completed"
    },
    "tags": []
   },
   "source": [
    "Biden_pandas = pd.DataFrame(Biden_win_probs, index = None)\n",
    "Biden_pandas.to_csv('Biden_vector.csv', index = False)"
   ]
  },
  {
   "cell_type": "markdown",
   "metadata": {
    "papermill": {
     "duration": 0.068599,
     "end_time": "2020-12-18T02:40:24.687872",
     "exception": false,
     "start_time": "2020-12-18T02:40:24.619273",
     "status": "completed"
    },
    "tags": []
   },
   "source": [
    "We filled the table with a electoral-votes column on Excel. Now we are ready to mimic the Eelectoral College as 55 biased coins"
   ]
  },
  {
   "cell_type": "code",
   "execution_count": 35,
   "metadata": {
    "execution": {
     "iopub.execute_input": "2020-12-18T02:40:24.830713Z",
     "iopub.status.busy": "2020-12-18T02:40:24.829814Z",
     "iopub.status.idle": "2020-12-18T02:40:24.848548Z",
     "shell.execute_reply": "2020-12-18T02:40:24.847851Z"
    },
    "papermill": {
     "duration": 0.091162,
     "end_time": "2020-12-18T02:40:24.848662",
     "exception": false,
     "start_time": "2020-12-18T02:40:24.757500",
     "status": "completed"
    },
    "tags": []
   },
   "outputs": [],
   "source": [
    "Table_Biden = pd.read_csv('../input/biden-win-probs/Biden_vector.csv', header = None).values"
   ]
  },
  {
   "cell_type": "markdown",
   "metadata": {
    "papermill": {
     "duration": 0.068393,
     "end_time": "2020-12-18T02:40:24.986247",
     "exception": false,
     "start_time": "2020-12-18T02:40:24.917854",
     "status": "completed"
    },
    "tags": []
   },
   "source": [
    "Now we find a Monte Carlo estimate of the probability of Biden win"
   ]
  },
  {
   "cell_type": "code",
   "execution_count": 36,
   "metadata": {
    "execution": {
     "iopub.execute_input": "2020-12-18T02:40:25.134133Z",
     "iopub.status.busy": "2020-12-18T02:40:25.132869Z",
     "iopub.status.idle": "2020-12-18T02:40:25.338997Z",
     "shell.execute_reply": "2020-12-18T02:40:25.339477Z"
    },
    "papermill": {
     "duration": 0.284584,
     "end_time": "2020-12-18T02:40:25.339629",
     "exception": false,
     "start_time": "2020-12-18T02:40:25.055045",
     "status": "completed"
    },
    "tags": []
   },
   "outputs": [],
   "source": [
    "n = 10000 # number of simulations\n",
    "u = np.random.uniform(0,1,(n, 55))\n",
    "Probss = np.repeat(Table_Biden[:,0].reshape(1,55),n, axis = 0)\n",
    "Votess = np.repeat(Table_Biden[:,2].reshape(1,55),n, axis = 0)\n",
    "eVotesSample = np.sum(np.multiply(Votess,(Probss - u)>0), axis = 1)\n",
    "Probability = np.mean(eVotesSample >= 270)"
   ]
  },
  {
   "cell_type": "code",
   "execution_count": 37,
   "metadata": {
    "execution": {
     "iopub.execute_input": "2020-12-18T02:40:25.469811Z",
     "iopub.status.busy": "2020-12-18T02:40:25.469212Z",
     "iopub.status.idle": "2020-12-18T02:40:25.474179Z",
     "shell.execute_reply": "2020-12-18T02:40:25.473547Z"
    },
    "papermill": {
     "duration": 0.061722,
     "end_time": "2020-12-18T02:40:25.474284",
     "exception": false,
     "start_time": "2020-12-18T02:40:25.412562",
     "status": "completed"
    },
    "tags": []
   },
   "outputs": [
    {
     "data": {
      "text/plain": [
       "0.4619"
      ]
     },
     "execution_count": 37,
     "metadata": {},
     "output_type": "execute_result"
    }
   ],
   "source": [
    "Probability"
   ]
  }
 ],
 "metadata": {
  "kernelspec": {
   "display_name": "Python 3",
   "language": "python",
   "name": "python3"
  },
  "language_info": {
   "codemirror_mode": {
    "name": "ipython",
    "version": 3
   },
   "file_extension": ".py",
   "mimetype": "text/x-python",
   "name": "python",
   "nbconvert_exporter": "python",
   "pygments_lexer": "ipython3",
   "version": "3.7.6"
  },
  "papermill": {
   "duration": 242.410405,
   "end_time": "2020-12-18T02:40:25.652043",
   "environment_variables": {},
   "exception": null,
   "input_path": "__notebook__.ipynb",
   "output_path": "__notebook__.ipynb",
   "parameters": {},
   "start_time": "2020-12-18T02:36:23.241638",
   "version": "2.1.0"
  }
 },
 "nbformat": 4,
 "nbformat_minor": 4
}
