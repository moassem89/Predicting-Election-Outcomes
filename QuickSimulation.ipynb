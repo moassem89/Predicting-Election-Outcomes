{
 "cells": [
  {
   "cell_type": "code",
   "execution_count": 1,
   "metadata": {},
   "outputs": [],
   "source": [
    "N<-1424 # the sample size\n",
    "n<-4e4 # number of scenarios\n",
    "candidates<-c(\"B\", \"T\",\"O\") # the 3 possible choices for every voter\n",
    "perc<-c(0.457, 0.4417, (1-0.457-0.4417)) # poll's percentages\n",
    "sim.polls<-sample(candidates,size=n*N,replace=TRUE,prob=perc)\n",
    "dim(sim.polls)<-c(n,N) # reshape into n by N matrix"
   ]
  },
  {
   "cell_type": "code",
   "execution_count": 2,
   "metadata": {},
   "outputs": [
    {
     "data": {
      "text/html": [
       "0.721275"
      ],
      "text/latex": [
       "0.721275"
      ],
      "text/markdown": [
       "0.721275"
      ],
      "text/plain": [
       "[1] 0.721275"
      ]
     },
     "metadata": {},
     "output_type": "display_data"
    }
   ],
   "source": [
    "mean(rowSums(sim.polls == \"B\") > rowSums(sim.polls == \"T\"))"
   ]
  }
 ],
 "metadata": {
  "kernelspec": {
   "display_name": "R 4.0.2",
   "language": "R",
   "name": "uw-r-4-0-2-ivybridge"
  },
  "language_info": {
   "codemirror_mode": "r",
   "file_extension": ".r",
   "mimetype": "text/x-r-source",
   "name": "R",
   "pygments_lexer": "r",
   "version": "4.0.2"
  }
 },
 "nbformat": 4,
 "nbformat_minor": 4
}
